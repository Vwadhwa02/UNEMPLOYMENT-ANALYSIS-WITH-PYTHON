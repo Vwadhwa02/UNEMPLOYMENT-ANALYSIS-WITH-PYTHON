{
 "cells": [
  {
   "cell_type": "code",
   "execution_count": null,
   "metadata": {},
   "outputs": [],
   "source": [
    "import pandas as pd\n",
    "import numpy as np\n",
    "import matplotlib.pyplot as plt\n",
    "import statsmodels.api as sm"
   ]
  },
  {
   "cell_type": "code",
   "execution_count": null,
   "metadata": {},
   "outputs": [],
   "source": [
    "data = pd.read_csv('Unemployment_in_India.csv')"
   ]
  },
  {
   "cell_type": "code",
   "execution_count": null,
   "metadata": {},
   "outputs": [],
   "source": [
    "#Data Preprocessing\n",
    "data.dropna()\n",
    "try:\n",
    "    data[' Date'] = pd.to_datetime(data[' Date'])\n",
    "except:\n",
    "    pass\n",
    "# data[' Date'] = pd.to_datetime(data[' Date'])\n",
    "data.set_index(' Date', inplace=True)"
   ]
  },
  {
   "cell_type": "code",
   "execution_count": null,
   "metadata": {},
   "outputs": [],
   "source": [
    "plt.figure(figsize=(10, 6))\n",
    "plt.plot(data.index, data[' Estimated Unemployment Rate (%)'], marker='o', linestyle='-')\n",
    "plt.xlabel('Date')\n",
    "# plt.figure(figsize=(10, 6))\n",
    "# plt.plot(data.index.values, data[' Estimated Unemployment Rate (%)'], marker='o', linestyle='-')\n",
    "# plt.xlabel('Date')\n",
    "plt.ylabel('Unemployment Rate (%)')\n",
    "plt.title('Unemployment Rate Over Time')\n",
    "plt.grid(True)\n",
    "plt.show()"
   ]
  },
  {
   "cell_type": "code",
   "execution_count": null,
   "metadata": {},
   "outputs": [],
   "source": [
    "#Time Series Analysis(performing time series analysis on the unemployment rate)\n",
    "data.fillna(0, inplace=True)\n",
    "decomposition = sm.tsa.seasonal_decompose(data[' Estimated Unemployment Rate (%)'], model='additive')\n",
    "fig, axes = plt.subplots(4, 1, figsize=(10, 8))\n",
    "axes[0].plot(data.index, data[' Estimated Unemployment Rate (%)'], label='Original')\n",
    "axes[0].legend(loc='upper left')\n",
    "axes[1].plot(data.index, decomposition.trend, label='Trend')\n",
    "axes[1].legend(loc='upper left')\n",
    "axes[2].plot(data.index, decomposition.seasonal, label='Seasonal')\n",
    "axes[2].legend(loc='upper left')\n",
    "axes[3].plot(data.index, decomposition.resid, label='Residual')\n",
    "axes[3].legend(loc='upper left')\n",
    "plt.tight_layout()\n",
    "plt.show()"
   ]
  },
  {
   "cell_type": "code",
   "execution_count": null,
   "metadata": {},
   "outputs": [],
   "source": [
    "#Forecasting using ARIMA\n",
    "p, d, q = 2, 1, 2\n",
    "model = sm.tsa.ARIMA(data[' Estimated Unemployment Rate (%)'], order=(p, d, q))"
   ]
  },
  {
   "cell_type": "code",
   "execution_count": null,
   "metadata": {},
   "outputs": [],
   "source": [
    "results = model.fit()"
   ]
  },
  {
   "cell_type": "code",
   "execution_count": null,
   "metadata": {},
   "outputs": [],
   "source": [
    "month = 12\n",
    "forecast, stderr, conf_int =0,0,0 \n",
    "\n",
    "l=list(results.forecast(steps=month))\n",
    "forecast=np.mean(l)\n",
    "l"
   ]
  },
  {
   "cell_type": "code",
   "execution_count": null,
   "metadata": {},
   "outputs": [],
   "source": [
    "forecast_index = pd.date_range(start=data.index[-1], periods=month+1)\n",
    "forecast_data = pd.DataFrame({'Forecast': forecast}, index=forecast_index)\n"
   ]
  },
  {
   "cell_type": "code",
   "execution_count": null,
   "metadata": {},
   "outputs": [],
   "source": [
    "#Data Visualization\n",
    "\n",
    "plt.figure(figsize=(10, 6))\n",
    "plt.plot(data.index, data[' Estimated Unemployment Rate (%)'], marker='o', linestyle='-', label='Actual')\n",
    "plt.plot(forecast_data.index, forecast_data['Forecast'], marker='o', linestyle='--', label='Forecast')\n",
    "plt.xlabel('Date')\n",
    "plt.ylabel('Unemployment Rate (%)')\n",
    "plt.title('Unemployment Rate Forecast with ARIMA')\n",
    "plt.grid(True)\n",
    "plt.legend()\n",
    "plt.show()"
   ]
  }
 ],
 "metadata": {
  "kernelspec": {
   "display_name": "Python 3",
   "language": "python",
   "name": "python3"
  },
  "language_info": {
   "codemirror_mode": {
    "name": "ipython",
    "version": 3
   },
   "file_extension": ".py",
   "mimetype": "text/x-python",
   "name": "python",
   "nbconvert_exporter": "python",
   "pygments_lexer": "ipython3",
   "version": "3.10.10"
  },
  "orig_nbformat": 4
 },
 "nbformat": 4,
 "nbformat_minor": 2
}
